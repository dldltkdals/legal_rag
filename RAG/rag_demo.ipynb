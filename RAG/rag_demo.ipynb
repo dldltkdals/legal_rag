{
 "cells": [
  {
   "cell_type": "code",
   "execution_count": 1,
   "id": "0df87461-7997-4436-a88d-f072838077c4",
   "metadata": {
    "scrolled": true
   },
   "outputs": [
    {
     "name": "stderr",
     "output_type": "stream",
     "text": [
      "/opt/conda/lib/python3.10/site-packages/tqdm/auto.py:21: TqdmWarning: IProgress not found. Please update jupyter and ipywidgets. See https://ipywidgets.readthedocs.io/en/stable/user_install.html\n",
      "  from .autonotebook import tqdm as notebook_tqdm\n"
     ]
    }
   ],
   "source": [
    "from rag import RetrievalQA\n",
    "from retriever import Retriever, BM25_Retriever\n",
    "import pandas as pd\n",
    "from datasets import Dataset"
   ]
  },
  {
   "cell_type": "markdown",
   "id": "5cc12e00-eeb5-4cc5-9e7d-be69538d1d61",
   "metadata": {},
   "source": [
    "# retriever "
   ]
  },
  {
   "cell_type": "code",
   "execution_count": 2,
   "id": "783072b8-775e-4134-84be-6a81946ba006",
   "metadata": {},
   "outputs": [
    {
     "name": "stderr",
     "output_type": "stream",
     "text": [
      "/home/ubuntu/legal_qa/legal_rag/RAG/retriever.py:45: LangChainDeprecationWarning: The class `HuggingFaceEmbeddings` was deprecated in LangChain 0.2.2 and will be removed in 1.0. An updated version of the class exists in the :class:`~langchain-huggingface package and should be used instead. To use it run `pip install -U :class:`~langchain-huggingface` and import as `from :class:`~langchain_huggingface import HuggingFaceEmbeddings``.\n",
      "  return HuggingFaceEmbeddings(\n",
      "/opt/conda/lib/python3.10/site-packages/huggingface_hub/file_download.py:797: FutureWarning: `resume_download` is deprecated and will be removed in version 1.0.0. Downloads always resume when possible. If you want to force a new download, use `force_download=True`.\n",
      "  warnings.warn(\n"
     ]
    }
   ],
   "source": [
    "retriever = Retriever()\n",
    "# retriever = BM25_Retriever()\n"
   ]
  },
  {
   "cell_type": "markdown",
   "id": "3ff88d58-5be4-4492-8afc-3c72b2425d6e",
   "metadata": {},
   "source": [
    "# HyDE \n"
   ]
  },
  {
   "cell_type": "code",
   "execution_count": 3,
   "id": "f8391856-e0b4-462b-a6c3-053038065173",
   "metadata": {},
   "outputs": [],
   "source": [
    "from hyde.generator import OpenAIGenerator\n",
    "from hyde.promptor import Promptor\n",
    "from hyde.hyde import HyDE"
   ]
  },
  {
   "cell_type": "code",
   "execution_count": null,
   "id": "ce49da12-7694-4ecc-a62d-6a70a3c109d7",
   "metadata": {},
   "outputs": [],
   "source": [
    "model_name = \"gpt-3.5-turbo\"\n",
    "api_key = \"\""
   ]
  },
  {
   "cell_type": "code",
   "execution_count": 5,
   "id": "8877dd0c-4fef-430e-86f9-2a9f0988c11e",
   "metadata": {},
   "outputs": [],
   "source": [
    "generator = OpenAIGenerator(model_name=model_name, api_key=api_key)\n",
    "promptor = Promptor()\n",
    "hyde = HyDE(promptor, generator,retriever.encoder,retriever)"
   ]
  },
  {
   "cell_type": "code",
   "execution_count": 6,
   "id": "55f83418-1b29-43ef-8cd9-cf6d21668919",
   "metadata": {},
   "outputs": [],
   "source": [
    "question = \"배우자에게 폭행을 당했습니다 이때 상대방의 귀책사유로 이혼을 요구할 수 있나요?\""
   ]
  },
  {
   "cell_type": "code",
   "execution_count": 7,
   "id": "c3d02a10-7e4a-4ba9-9762-888e26f6d14c",
   "metadata": {},
   "outputs": [],
   "source": [
    "retrieved_docs = hyde.search(question,k=3)"
   ]
  },
  {
   "cell_type": "code",
   "execution_count": 8,
   "id": "e39f4983-aab5-4727-bceb-ad240a2ad814",
   "metadata": {},
   "outputs": [
    {
     "data": {
      "text/plain": [
       "'민법 제840조 제3호 소정의 이혼사유인 ‘배우자로부터 심히 부당한 대우를 받았을 때’라고 함은 혼인 당사자의 일방이 배우자로부터 혼인관계의 지속을 강요하는 것이 가혹하다고 여겨질 정도의 폭행이나 학대 또는 중대한 모욕을 받았을 경우를 말하는 것이다(대법원 1999. 2. 12. 선고 97므612 판결 등 참조).\\n살피건대, 앞서 든 증거들 및 변론 전체의 취지에 의하면, 혼인기간 중 원고가 피고를 배려하려고 노력하는데도 피고가 원고에게 자주 짜증을 내거나 화를 내고 불만을 표현하였던 것은 사실이나, 이는 피고가 혼인하면서 직장을 그만두고 주거지도 옮긴데다가 혼인한 지 얼마 되지 않아 사건본인을 임신, 출산하고 양육하는 과정에서 정신적·육체적으로 힘든 상황에 놓여 있어, 남편인 원고에게 힘든 감정을 쏟아내게 되었던 것으로 보이는 점, 피고는 자신의 감정과 욕구를 적극적으로 표현하는 성격인 반면 원고는 상대방에게 맞춰주고 참는 성격인데, 피고가 원고의 성격에 따른 특성을 잘 고려하지 못한 채 위와 같이 행동했던 점, 원고가 피고에게 이혼을 요구하자 피고가 자신의 잘못을 인식하고 사과하였던 점 등에 비추어 보면, 원고가 제출한 증거들만으로는 원고가 혼인기간 중 피고로부터 혼인관계의 지속을 강요하는 것이 가혹하다고 여겨질 정도의 폭행이나 학대 또는 중대한 모욕을 받았음을 인정하기에 부족하고, 달리 이를 인정할 증거가 없다.'"
      ]
     },
     "execution_count": 8,
     "metadata": {},
     "output_type": "execute_result"
    }
   ],
   "source": [
    "retrieved_docs[0].metadata['summary']"
   ]
  },
  {
   "cell_type": "markdown",
   "id": "dca36529-7ede-4bdf-a313-a0060d3601fb",
   "metadata": {},
   "source": [
    "# Reranking"
   ]
  },
  {
   "cell_type": "code",
   "execution_count": 9,
   "id": "ad87441a-6ff2-4cc0-bed1-5fa491c9fa83",
   "metadata": {},
   "outputs": [],
   "source": [
    "from rerank.reranker import Reranker\n",
    "from langchain_community.cross_encoders import HuggingFaceCrossEncoder"
   ]
  },
  {
   "cell_type": "code",
   "execution_count": 10,
   "id": "46f61cf4-3c70-4541-b35e-730f0579d486",
   "metadata": {},
   "outputs": [],
   "source": [
    "reranker = HuggingFaceCrossEncoder(model_name=\"Dongjin-kr/ko-reranker\")\n",
    "rerank_retriever = Reranker(retriever,reranker, top_k=2)"
   ]
  },
  {
   "cell_type": "code",
   "execution_count": 11,
   "id": "9780f9ec-3e0a-4dfa-8485-ba11e1586718",
   "metadata": {},
   "outputs": [],
   "source": [
    "reranked_docs = rerank_retriever.search(question)"
   ]
  },
  {
   "cell_type": "code",
   "execution_count": 12,
   "id": "176d6fb4-ea33-44d7-8d37-6f8824ffa885",
   "metadata": {},
   "outputs": [
    {
     "data": {
      "text/plain": [
       "'원고와 피고 사이의 혼인관계는 더 이상 회복할 수 없을 정도로 파탄되고, 이는 피고가 원고 및 원고의 아버지를 형사고소하고, 원고가 무면허 운전 등으로 형사재판을 받게 되자 원고의 구속 및 엄벌을 바라는 취지의 탄원서를 2회 제출하였으며, 혜화동 부동산을 처분하고도 명륜동 부동산과 관련된 원고의 채무는 원고의 잘못 때문에 발생하였다며 이를 전혀 변제하지 아니하여 현재까지 원고가 7억 원 이상의 부채로 인해 신용불량자 상태에서 벗어나지 못하고 있는 등 혼인관계를 파국으로 치닫게 한 잘못과, 원고가 다른 여자를 만나 이성교제를 하고, 경제적인 어려움이 닥치자 이를 모두 피고의 탓으로 돌리면서 피고를 폭행하는 등 부당한 대우를 한 잘못이 경합되어 초래되었다고 할 것인바, 혼인생활 파탄에 있어 원고와 피고의 책임은 상호 대등한 정도라고 보여지고, 피고의 위와 같은 잘못은 민법 제840조 제3호, 제6호에 정한 재판상 이혼사유에 해당하므로, 원고의 이혼청구는 이유 있다고 판단해 상고를 기각한다.'"
      ]
     },
     "execution_count": 12,
     "metadata": {},
     "output_type": "execute_result"
    }
   ],
   "source": [
    "reranked_docs[0].metadata[\"summary\"]"
   ]
  },
  {
   "cell_type": "markdown",
   "id": "d633ebb5-d42e-4a8b-b466-d71707a09e80",
   "metadata": {},
   "source": [
    "# Recomp"
   ]
  },
  {
   "cell_type": "code",
   "execution_count": 13,
   "id": "251d99f0-5a62-4bcb-8ddc-5d9bfd3cb4d6",
   "metadata": {},
   "outputs": [],
   "source": [
    "from recomp.recomp import Recomp\n",
    "from openai import OpenAI"
   ]
  },
  {
   "cell_type": "code",
   "execution_count": 14,
   "id": "dfd2010b-0c92-4dcd-9ad9-76a8658f5fac",
   "metadata": {},
   "outputs": [],
   "source": [
    "client = OpenAI(api_key = api_key )"
   ]
  },
  {
   "cell_type": "code",
   "execution_count": 15,
   "id": "b3e50e0c-4fd9-4c49-a189-6e07921555c4",
   "metadata": {},
   "outputs": [],
   "source": [
    "recomp_retriever = Recomp(generator = client, retriever = retriever)"
   ]
  },
  {
   "cell_type": "code",
   "execution_count": 16,
   "id": "e480e831-32fb-4ef1-8f3c-2869a34d9de1",
   "metadata": {},
   "outputs": [],
   "source": [
    "compressed_docs = recomp_retriever.search(question,k = 2)"
   ]
  },
  {
   "cell_type": "code",
   "execution_count": 17,
   "id": "d4dc3f64-a634-4062-8f58-80c77a630694",
   "metadata": {},
   "outputs": [
    {
     "data": {
      "text/plain": [
       "'피고가 폭행이나 학대를 가한 것으로 인정되지 않아, 상대방의 귀책사유로 이혼을 요구할 수 없다고 판결되었습니다.'"
      ]
     },
     "execution_count": 17,
     "metadata": {},
     "output_type": "execute_result"
    }
   ],
   "source": [
    "compressed_docs[0].metadata[\"summary\"]"
   ]
  },
  {
   "cell_type": "markdown",
   "id": "37219b9f-ea0b-49bc-a424-d219d553033c",
   "metadata": {},
   "source": [
    "# QA 시스템"
   ]
  },
  {
   "cell_type": "code",
   "execution_count": 18,
   "id": "9417669e-6ce8-416b-bdde-5d7bb5e8aa15",
   "metadata": {},
   "outputs": [],
   "source": [
    "from rag import RetrievalQA"
   ]
  },
  {
   "cell_type": "code",
   "execution_count": 19,
   "id": "1469bac1-e079-4fc7-9310-49833cb8f556",
   "metadata": {},
   "outputs": [
    {
     "name": "stderr",
     "output_type": "stream",
     "text": [
      "/opt/conda/lib/python3.10/site-packages/huggingface_hub/file_download.py:797: FutureWarning: `resume_download` is deprecated and will be removed in version 1.0.0. Downloads always resume when possible. If you want to force a new download, use `force_download=True`.\n",
      "  warnings.warn(\n",
      "Special tokens have been added in the vocabulary, make sure the associated word embeddings are fine-tuned or trained.\n",
      "Loading checkpoint shards: 100%|██████████| 4/4 [00:10<00:00,  2.50s/it]\n"
     ]
    }
   ],
   "source": [
    "qa = RetrievalQA(model_name = \"MLP-KTLim/llama-3-Korean-Bllossom-8B\",retriever = rerank_retriever,top_k = 2)"
   ]
  },
  {
   "cell_type": "code",
   "execution_count": 20,
   "id": "f6e958d1-91a3-4888-acff-969c1501e34d",
   "metadata": {},
   "outputs": [
    {
     "name": "stderr",
     "output_type": "stream",
     "text": [
      "Asking to truncate to max_length but no maximum length is provided and the model has no predefined maximum length. Default to no truncation.\n",
      "Setting `pad_token_id` to `eos_token_id`:128009 for open-end generation.\n"
     ]
    },
    {
     "name": "stdout",
     "output_type": "stream",
     "text": [
      "[Document(metadata={'case_title': '대법원 2004. 2. 27. 선고 2003므1890 판결', 'summary': '원고와 피고 사이의 혼인관계는 더 이상 회복할 수 없을 정도로 파탄되고, 이는 피고가 원고 및 원고의 아버지를 형사고소하고, 원고가 무면허 운전 등으로 형사재판을 받게 되자 원고의 구속 및 엄벌을 바라는 취지의 탄원서를 2회 제출하였으며, 혜화동 부동산을 처분하고도 명륜동 부동산과 관련된 원고의 채무는 원고의 잘못 때문에 발생하였다며 이를 전혀 변제하지 아니하여 현재까지 원고가 7억 원 이상의 부채로 인해 신용불량자 상태에서 벗어나지 못하고 있는 등 혼인관계를 파국으로 치닫게 한 잘못과, 원고가 다른 여자를 만나 이성교제를 하고, 경제적인 어려움이 닥치자 이를 모두 피고의 탓으로 돌리면서 피고를 폭행하는 등 부당한 대우를 한 잘못이 경합되어 초래되었다고 할 것인바, 혼인생활 파탄에 있어 원고와 피고의 책임은 상호 대등한 정도라고 보여지고, 피고의 위와 같은 잘못은 민법 제840조 제3호, 제6호에 정한 재판상 이혼사유에 해당하므로, 원고의 이혼청구는 이유 있다고 판단해 상고를 기각한다.'}, page_content='인관계의 지속을 강요하는 것이 참으로 가혹하다고 여겨질 정도의 폭행이나 학대 또는 모욕을 받았을 경우 이혼의 사유로 배우자로부터 심히 부당한 대우를 받았을 때라고 볼 수 있는가?'), Document(metadata={'case_title': '부산가정법원 2018. 8. 23. 선고 2017드합200439 판결', 'summary': '피고가 폭행이나 학대를 가한 것으로 인정되지 않아, 상대방의 귀책사유로 이혼을 요구할 수 없다고 판결되었습니다.'}, page_content='민법 제840조 제3호 소정의 이혼사유인 ‘배우자로부터 심히 부당한 대우를 받았을 때’라고 함은 혼인 당사자의 일방이 배우자로부터 혼인관계의 지속을 강요하는 것이 가혹하다고 여겨질 정도의 폭행이나 학대 또는 중대한 모욕을 받았을 경우를 말하는 것인가?')]\n"
     ]
    }
   ],
   "source": [
    "rerank_output = qa.generate(question)"
   ]
  },
  {
   "cell_type": "code",
   "execution_count": 21,
   "id": "e05b4b43-46fc-4918-9270-a8df060216f5",
   "metadata": {},
   "outputs": [
    {
     "data": {
      "text/plain": [
       "'배우자에게 폭행을 당했습니다 이때 상대방의 귀책사유로 이혼을 요구할 수는 없습니다. 피고가 폭행이나 학대를 가한 것으로 인정되지 않으면, 상대방의 귀책사유로 이혼을 요구할 수 없습니다. (부산가정법원 2018. 8. 23. 선고 2017드합200439 판결 참조)'"
      ]
     },
     "execution_count": 21,
     "metadata": {},
     "output_type": "execute_result"
    }
   ],
   "source": [
    "rerank_output"
   ]
  },
  {
   "cell_type": "code",
   "execution_count": 23,
   "id": "fa78799a-b983-4994-8ec9-e38100f203cd",
   "metadata": {},
   "outputs": [],
   "source": [
    "qa.retriever = recomp_retriever\n",
    "qa.top_k = 5"
   ]
  },
  {
   "cell_type": "code",
   "execution_count": 24,
   "id": "1a47b197-878b-4898-af33-29e855472cc2",
   "metadata": {},
   "outputs": [
    {
     "name": "stderr",
     "output_type": "stream",
     "text": [
      "Setting `pad_token_id` to `eos_token_id`:128009 for open-end generation.\n"
     ]
    },
    {
     "name": "stdout",
     "output_type": "stream",
     "text": [
      "[Document(metadata={'case_title': '부산가정법원 2018. 8. 23. 선고 2017드합200439 판결', 'summary': '피고가 폭행이나 학대를 가한 것으로 인정되지 않아, 상대방의 귀책사유로 이혼을 요구할 수 없다는 판결이 있습니다.'}, page_content='민법 제840조 제3호 소정의 이혼사유인 ‘배우자로부터 심히 부당한 대우를 받았을 때’라고 함은 혼인 당사자의 일방이 배우자로부터 혼인관계의 지속을 강요하는 것이 가혹하다고 여겨질 정도의 폭행이나 학대 또는 중대한 모욕을 받았을 경우를 말하는 것인가?'), Document(metadata={'case_title': '대구가정법원 2014. 6. 11. 선고 2013드단19474 판결', 'summary': '피고의 폭행으로 인한 이혼 요구는 증거 부족으로 인정되지 않음.'}, page_content='민법 제840조 제3호에서 정한 이혼사유인 ‘배우자로부터 심히 부당한 대우를 받았을 때’라 함은 혼인 당사자의 한쪽이 배우자부터 혼인관계의 지속을 강요받는 것이 가혹하다고 여겨질 정도의 폭행이나 학대 또는 중대한 모욕을 받았을 경우를 말하는가?'), Document(metadata={'case_title': '대법원 1990. 9. 25. 선고 89므112 판결', 'summary': '이혼을 요구할 수 없습니다. 상대방의 귀책사유로 혼인을 파탄시켰다고 해도 특별한 사정이 없는 한 이혼을 청구할 수 없습니다.'}, page_content='혼인을 파탄에 이르게한 사유에 관하여 당초 책임있는 배우자는 민법 제840조 제1항 제6호의 사유가 있다 하여 이혼을 청구할 수 있는가?'), Document(metadata={'case_title': '부산가정법원 2017. 7. 12. 선고 2017드단779 판결', 'summary': '피고가 원고를 수차례 폭행하고 회복 불가능한 정도까지 파탄이 된 경우, 귀책사유로 이혼을 요구할 수 있다.'}, page_content='혼인관계에 있는 자들 중 일방의 폭행과 유기 등으로 인해 혼인관계가 지속되기 어려울 정도로 파탄에 이른다면, 이는 재판상 이혼사유가 되는가?'), Document(metadata={'case_title': '서울고법 1986. 12. 8., 선고, 86르180, 제1특별부판결 : 상고', 'summary': '피청구인 3, 2로부터 심히 부당한 대우를 받은 것이 이혼원인으로 볼 수 없으므로, 이로 인한 위자료를 청구할 수 없다.'}, page_content='배우자의 직계존속으로부터 심히 부당한 대우를 받은 것을 이유로 위지료를 청구하기 위해서는 이혼판결이 전제되어야 하는가?')]\n"
     ]
    }
   ],
   "source": [
    "recomp_output = qa.generate(question)"
   ]
  },
  {
   "cell_type": "code",
   "execution_count": 25,
   "id": "2a467127-84c8-4c20-91c4-0658d3de3acf",
   "metadata": {},
   "outputs": [
    {
     "data": {
      "text/plain": [
       "'배우자에게 폭행을 당했을 때 상대방의 귀책사유로 이혼을 요구하기 위해서는 피고가 폭행이나 학대를 가한 것으로 인정되어야 합니다. 피고의 귀책사유가 인정된 경우에만 이혼을 요구할 수 있습니다. 반대로 귀책사유가 인정되지 않는 경우에는 이혼을 요구할 수 없습니다. \\n\\n예를 들어, 부산가정법원 2018. 8. 23. 선고 2017드합200439 판결과 대구가정법원 2014. 6. 11. 선고 2013드단19474 판결에서는 피고의 귀책사유가 인정되지 않아 이혼을 요구할 수 없다고 판결했습니다. 반면, 부산가정법원 2017. 7. 12. 선고 2017드단779 판결에서는 피고가 원고를 수차례 폭행하고 회복 불가능한 정도까지 파탄이 된 경우 귀책사유로 이혼을 요구할 수 있다고 판결했습니다.'"
      ]
     },
     "execution_count": 25,
     "metadata": {},
     "output_type": "execute_result"
    }
   ],
   "source": [
    "recomp_output"
   ]
  },
  {
   "cell_type": "code",
   "execution_count": 26,
   "id": "c6434ede-ef8b-4e8d-9fbd-32de65a5fc6e",
   "metadata": {},
   "outputs": [],
   "source": [
    "qa.retriever = hyde\n",
    "qa.top_k = 2"
   ]
  },
  {
   "cell_type": "code",
   "execution_count": 27,
   "id": "9616c450-0da4-4601-bb13-113b3dc162f2",
   "metadata": {},
   "outputs": [
    {
     "name": "stderr",
     "output_type": "stream",
     "text": [
      "Setting `pad_token_id` to `eos_token_id`:128009 for open-end generation.\n"
     ]
    },
    {
     "name": "stdout",
     "output_type": "stream",
     "text": [
      "[Document(metadata={'case_title': '부산가정법원 2018. 8. 23. 선고 2017드합200439 판결', 'summary': '피고가 폭행이나 학대를 가한 것으로 인정되지 않아, 상대방의 귀책사유로 이혼을 요구할 수 없다는 판결이 있습니다.'}, page_content='민법 제840조 제3호 소정의 이혼사유인 ‘배우자로부터 심히 부당한 대우를 받았을 때’라고 함은 혼인 당사자의 일방이 배우자로부터 혼인관계의 지속을 강요하는 것이 가혹하다고 여겨질 정도의 폭행이나 학대 또는 중대한 모욕을 받았을 경우를 말하는 것인가?'), Document(metadata={'case_title': '대구가정법원 2014. 6. 11. 선고 2013드단19474 판결', 'summary': '피고의 폭행으로 인한 이혼 요구는 증거 부족으로 인정되지 않음.'}, page_content='민법 제840조 제3호에서 정한 이혼사유인 ‘배우자로부터 심히 부당한 대우를 받았을 때’라 함은 혼인 당사자의 한쪽이 배우자부터 혼인관계의 지속을 강요받는 것이 가혹하다고 여겨질 정도의 폭행이나 학대 또는 중대한 모욕을 받았을 경우를 말하는가?')]\n"
     ]
    }
   ],
   "source": [
    "hyde_output = qa.generate(question)"
   ]
  },
  {
   "cell_type": "code",
   "execution_count": 28,
   "id": "0ef2613e-9fdc-4762-b5ca-ec88ccd44d45",
   "metadata": {},
   "outputs": [
    {
     "data": {
      "text/plain": [
       "'배우자에게 폭행을 당했더라도 상대방의 귀책사유로 이혼을 요구하기 위해서는 폭행이나 학대를 입증해야 합니다. 만약 폭행이나 학대를 입증할 수 없는 경우, 상대방의 귀책사유로 이혼을 요구할 수 없습니다.'"
      ]
     },
     "execution_count": 28,
     "metadata": {},
     "output_type": "execute_result"
    }
   ],
   "source": [
    "hyde_output"
   ]
  },
  {
   "cell_type": "code",
   "execution_count": null,
   "id": "5ad2b94a-4913-4461-8ce9-a57921444d7d",
   "metadata": {},
   "outputs": [],
   "source": []
  }
 ],
 "metadata": {
  "kernelspec": {
   "display_name": "Python 3 (ipykernel)",
   "language": "python",
   "name": "python3"
  },
  "language_info": {
   "codemirror_mode": {
    "name": "ipython",
    "version": 3
   },
   "file_extension": ".py",
   "mimetype": "text/x-python",
   "name": "python",
   "nbconvert_exporter": "python",
   "pygments_lexer": "ipython3",
   "version": "3.10.12"
  }
 },
 "nbformat": 4,
 "nbformat_minor": 5
}
